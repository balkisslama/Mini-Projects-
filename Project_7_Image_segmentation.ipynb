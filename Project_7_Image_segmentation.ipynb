{
  "nbformat": 4,
  "nbformat_minor": 0,
  "metadata": {
    "colab": {
      "provenance": []
    },
    "kernelspec": {
      "name": "python3",
      "display_name": "Python 3"
    },
    "language_info": {
      "name": "python"
    }
  },
  "cells": [
    {
      "cell_type": "code",
      "execution_count": null,
      "metadata": {
        "id": "oYlhhW7jnYdX"
      },
      "outputs": [],
      "source": [
        "import joblib\n",
        "import cv2\n",
        "from sklearn.cluster import KMeans"
      ]
    },
    {
      "cell_type": "code",
      "source": [
        "from google.colab import files\n",
        "uploaded = files.upload()"
      ],
      "metadata": {
        "id": "0wqU7YfMnh9G"
      },
      "execution_count": null,
      "outputs": []
    },
    {
      "cell_type": "code",
      "source": [
        "image_path= \"pic.jpg\"\n",
        "img=cv2.imread(image_path)\n",
        "print(img)\n"
      ],
      "metadata": {
        "id": "9wWCON8unk26"
      },
      "execution_count": null,
      "outputs": []
    },
    {
      "cell_type": "code",
      "source": [
        "img_rgb= cv2.cvtColor(img, cv2.COLOR_BGR2RGB)"
      ],
      "metadata": {
        "id": "I_GDOVrPnpy0"
      },
      "execution_count": null,
      "outputs": []
    },
    {
      "cell_type": "code",
      "source": [
        "print (pixels)"
      ],
      "metadata": {
        "id": "UUwKWphgnwQv"
      },
      "execution_count": null,
      "outputs": []
    },
    {
      "cell_type": "code",
      "source": [
        "k=4\n",
        "kmeans = KMeans (n_clusters=k, random_state=43)"
      ],
      "metadata": {
        "id": "6Ui0wYumnzxq"
      },
      "execution_count": null,
      "outputs": []
    },
    {
      "cell_type": "code",
      "source": [
        "kmeans.fit(pixels)"
      ],
      "metadata": {
        "id": "qlQ91zFMn4o3"
      },
      "execution_count": null,
      "outputs": []
    },
    {
      "cell_type": "code",
      "source": [
        "segmented_pixels= kmeans.cluster_centers_[kmeans.labels_]"
      ],
      "metadata": {
        "id": "p8Q5fFszoByC"
      },
      "execution_count": null,
      "outputs": []
    },
    {
      "cell_type": "code",
      "source": [
        "print(segmented_pixels)"
      ],
      "metadata": {
        "id": "w3ab-AkHoErY"
      },
      "execution_count": null,
      "outputs": []
    },
    {
      "cell_type": "code",
      "source": [
        "import numpy as np\n",
        "import cv2"
      ],
      "metadata": {
        "id": "EtbmUmFNoI2c"
      },
      "execution_count": null,
      "outputs": []
    },
    {
      "cell_type": "code",
      "source": [
        "segmented_img= segmented_pixels.reshape(img_rgb.shape).astype(np.uint8)"
      ],
      "metadata": {
        "id": "WaWvg5s0oMma"
      },
      "execution_count": null,
      "outputs": []
    },
    {
      "cell_type": "code",
      "source": [
        "segmented_img_path= \"segmented_img.jpg\"\n",
        "cv2.imwrite(segmented_img_path, cv2.cvtColor(segmented_img, cv2.COLOR_BGR2RGB))"
      ],
      "metadata": {
        "id": "PeAP6Fe6oZ1R"
      },
      "execution_count": null,
      "outputs": []
    },
    {
      "cell_type": "code",
      "source": [
        "import os\n",
        "print(\"Current working directory:\", os.getcwd())\n",
        "print(\"Full path to segmented image:\", os.path.abspath(segmented_img_path))"
      ],
      "metadata": {
        "id": "CDsI1ahqocya"
      },
      "execution_count": null,
      "outputs": []
    },
    {
      "cell_type": "code",
      "source": [
        "model_path=\"kmeans_image_segmentation.pkl\"\n",
        "joblib.dump(kmeans, model_path)"
      ],
      "metadata": {
        "id": "jk-KOrD_oecP"
      },
      "execution_count": null,
      "outputs": []
    },
    {
      "cell_type": "code",
      "source": [
        "#function to import the model that we just exported\n",
        "\n",
        "def apply_kmeans(image_path, model_path) :\n",
        "  kmeans= joblib.load(model_path)\n",
        "  img = cv2.imread(image_path)\n",
        "  img_rgb = cv2.cvtColor(img, cv2.COLOR_RGB2BGR)\n",
        "  pixels = img_rgb.reshape (-1, 3)\n",
        "\n",
        "  segmented_pixels= kmeans.cluster_centers_[kmeans.predict(pixels)]\n",
        "  segmented_img= segmented_pixels.reshape(img_rgb.shape).astype(np.uint8)\n",
        "  return segmented_img"
      ],
      "metadata": {
        "id": "Mh4M_QPJpGHM"
      },
      "execution_count": null,
      "outputs": []
    },
    {
      "cell_type": "code",
      "source": [
        "test = apply_kmeans(\"test.png\", \"kmeans_image_segmentation.pkl\")"
      ],
      "metadata": {
        "id": "hi5vcnLDpHl6"
      },
      "execution_count": null,
      "outputs": []
    },
    {
      "cell_type": "code",
      "source": [
        "import matplotlib.pyplot as plt\n"
      ],
      "metadata": {
        "id": "Z5X35hpSpOGl"
      },
      "execution_count": null,
      "outputs": []
    },
    {
      "cell_type": "code",
      "source": [
        "plt.imshow(test)\n",
        "plt.show()"
      ],
      "metadata": {
        "id": "MyhUKTXopRQG"
      },
      "execution_count": null,
      "outputs": []
    }
  ]
}