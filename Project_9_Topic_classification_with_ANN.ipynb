{
  "nbformat": 4,
  "nbformat_minor": 0,
  "metadata": {
    "colab": {
      "provenance": []
    },
    "kernelspec": {
      "name": "python3",
      "display_name": "Python 3"
    },
    "language_info": {
      "name": "python"
    }
  },
  "cells": [
    {
      "cell_type": "code",
      "source": [
        "import numpy as np\n",
        "import pandas as pd\n",
        "import matplotlib.pyplot as plt\n",
        "from sklearn.model_selection import train_test_split\n",
        "from sklearn.feature_extraction.text import TfidfVectorizer\n",
        "import tensorflow as tf\n",
        "from tensorflow import keras\n",
        "from tensorflow.keras import layers"
      ],
      "metadata": {
        "id": "GJ1NMy5oIl02"
      },
      "execution_count": null,
      "outputs": []
    },
    {
      "cell_type": "code",
      "source": [
        "gpus=tf.config.list_physical_devices(\"GPU\")\n",
        "print(gpus)\n"
      ],
      "metadata": {
        "id": "-9eNA7WKIpes"
      },
      "execution_count": null,
      "outputs": []
    },
    {
      "cell_type": "code",
      "source": [
        "for gpu in gpus :\n",
        "  try:\n",
        "    tf.config.experimental.set_memory_growth(gpu, True)\n",
        "  except Exception as e :\n",
        "    print(\"error locating GPU\", e)"
      ],
      "metadata": {
        "id": "fAYoWehtIyp8"
      },
      "execution_count": null,
      "outputs": []
    },
    {
      "cell_type": "code",
      "source": [
        "df = pd.read_csv(\"topics.csv\")\n",
        "df=pd.read_csv(\"/content/topics.csv\")\n",
        "df.head(3)"
      ],
      "metadata": {
        "id": "01BZtOZgJAlk"
      },
      "execution_count": null,
      "outputs": []
    },
    {
      "cell_type": "code",
      "source": [
        "df.shape"
      ],
      "metadata": {
        "id": "mXimnlO3JElF"
      },
      "execution_count": null,
      "outputs": []
    },
    {
      "cell_type": "code",
      "source": [
        "df.isnull().sum()"
      ],
      "metadata": {
        "id": "h9TfJPKAJHU9"
      },
      "execution_count": null,
      "outputs": []
    },
    {
      "cell_type": "code",
      "source": [
        "df[\"text\"]=df[\"text\"].astype(str).str.strip()\n",
        "df[\"label\"]=df[\"label\"].astype(str).str.strip()\n",
        "\n",
        "df=df[(df[\"text\"] != \"\" ) & (df[\"label\"] != \"\")]"
      ],
      "metadata": {
        "id": "9E5KaeWlJNvF"
      },
      "execution_count": null,
      "outputs": []
    },
    {
      "cell_type": "code",
      "source": [
        "print(\"labels unique:\", df[\"label\"].nunique())"
      ],
      "metadata": {
        "id": "w0OIifiSJQjt"
      },
      "execution_count": null,
      "outputs": []
    },
    {
      "cell_type": "code",
      "source": [
        "plt.figure (figsize=(8,3))\n",
        "df[\"label\"].value_counts().plot(kind=\"bar\")\n",
        "plt.title(\"labels distribution\")\n",
        "plt.show()"
      ],
      "metadata": {
        "id": "R8wGJSTMJTsN"
      },
      "execution_count": null,
      "outputs": []
    },
    {
      "cell_type": "code",
      "source": [
        "count=df[\"label\"].value_counts()\n",
        "df = df[df[\"label\"].isin(count[count > 20].index)]"
      ],
      "metadata": {
        "id": "eUXszJYVJV-0"
      },
      "execution_count": null,
      "outputs": []
    },
    {
      "cell_type": "code",
      "source": [
        "import re"
      ],
      "metadata": {
        "id": "aVN0HImmJYgf"
      },
      "execution_count": null,
      "outputs": []
    },
    {
      "cell_type": "code",
      "source": [
        "URL_EMAIL_RE = re.compile(r\"(https?://\\S+|www\\.\\S+|\\b[A-Za-z0-9._%+-]+@[A-Za-z0-9.-]+\\.\\w+)\")\n",
        "EXTRA_SPACE_RE = re.compile(r\"\\s+\")"
      ],
      "metadata": {
        "id": "7BR7j2GsJaaf"
      },
      "execution_count": null,
      "outputs": []
    },
    {
      "cell_type": "code",
      "source": [
        "def clean_text (s :str) -> str:\n",
        "  s=s.lower()\n",
        "  s=URL_EMAIL_RE.sub(\" \", s)\n",
        "  s=EXTRA_SPACE_RE.sub(\" \", s)\n",
        "  return s\n",
        "\n",
        "print(\"After cleaning:\", df.shape)"
      ],
      "metadata": {
        "id": "R6QyXCJDJc5k"
      },
      "execution_count": null,
      "outputs": []
    },
    {
      "cell_type": "code",
      "source": [
        "df[\"text\"]=df[\"text\"].apply(clean_text)"
      ],
      "metadata": {
        "id": "ZbZNnhXIJfzV"
      },
      "execution_count": null,
      "outputs": []
    },
    {
      "cell_type": "code",
      "source": [
        "mapping = {\n",
        "    # Sports\n",
        "    \"rec.sport.hockey\": \"Sports\",\n",
        "    \"rec.sport.baseball\": \"Sports\",\n",
        "    \"rec.motorcycles\": \"Sports\",\n",
        "    \"rec.autos\": \"Sports\",\n",
        "\n",
        "    # Religion\n",
        "    \"soc.religion.christian\": \"Religion\",\n",
        "    \"talk.religion.misc\": \"Religion\",\n",
        "    \"alt.atheism\": \"Religion\",\n",
        "\n",
        "    # Computer - Software\n",
        "    \"comp.os.ms-windows.misc\": \"Computer-Software\",\n",
        "    \"comp.windows.x\": \"Computer-Software\",\n",
        "    \"comp.graphics\": \"Computer-Software\",\n",
        "\n",
        "    # Computer - Hardware\n",
        "    \"comp.sys.ibm.pc.hardware\": \"Computer-Hardware\",\n",
        "    \"comp.sys.mac.hardware\": \"Computer-Hardware\",\n",
        "\n",
        "    # Science\n",
        "    \"sci.crypt\": \"Science\",\n",
        "    \"sci.med\": \"Science\",\n",
        "    \"sci.space\": \"Science\",\n",
        "    \"sci.electronics\": \"Science\",\n",
        "\n",
        "    # Politics\n",
        "    \"talk.politics.mideast\": \"Politics\",\n",
        "    \"talk.politics.guns\": \"Politics\",\n",
        "    \"talk.politics.misc\": \"Politics\",\n",
        "\n",
        "    # Misc\n",
        "    \"misc.forsale\": \"Miscellaneous\"\n",
        "}"
      ],
      "metadata": {
        "id": "nBVFjWeYJiZF"
      },
      "execution_count": null,
      "outputs": []
    },
    {
      "cell_type": "code",
      "source": [
        "df[\"new_label\"] = df[\"label\"].map(lambda x: mapping.get(x, \"Uncategorized\"))\n",
        "\n",
        "result = df[[\"text\", \"new_label\"]].copy()"
      ],
      "metadata": {
        "id": "0rY06gulJppF"
      },
      "execution_count": null,
      "outputs": []
    },
    {
      "cell_type": "code",
      "source": [
        "result.head(5)"
      ],
      "metadata": {
        "id": "YVo6lA-eJtIt"
      },
      "execution_count": null,
      "outputs": []
    },
    {
      "cell_type": "code",
      "source": [
        "print(\"labels unique:\", df[\"label\"].nunique())"
      ],
      "metadata": {
        "id": "03Fxy3fwJwNV"
      },
      "execution_count": null,
      "outputs": []
    },
    {
      "cell_type": "code",
      "source": [
        "X = result[\"text\"].values\n",
        "y = result[\"new_label\"].values\n",
        "\n",
        "X_train, X_temp, y_train, y_temp = train_test_split(\n",
        "    X, y, test_size=0.2, random_state=42, stratify=y\n",
        ")\n",
        "\n",
        "X_val, X_test, y_val, y_test = train_test_split(\n",
        "    X_temp, y_temp, test_size=0.5, random_state=42\n",
        ")"
      ],
      "metadata": {
        "id": "XHspFLUoJzFF"
      },
      "execution_count": null,
      "outputs": []
    },
    {
      "cell_type": "code",
      "source": [
        "print(X_val.shape)\n",
        "print(y_val.shape)"
      ],
      "metadata": {
        "id": "mEDSdb51J13V"
      },
      "execution_count": null,
      "outputs": []
    },
    {
      "cell_type": "code",
      "source": [
        "tfidf =TfidfVectorizer(\n",
        "     max_features=200_000,\n",
        "     ngram_range=(1,3),\n",
        "     min_df=2,\n",
        "     sublinear_tf=True,\n",
        "     norm=\"l2\"\n",
        "\n",
        "\n",
        ")"
      ],
      "metadata": {
        "id": "bVYVL0orJ5K9"
      },
      "execution_count": null,
      "outputs": []
    },
    {
      "cell_type": "code",
      "source": [
        "X_train_final =tfidf.fit_transform(X_train)\n",
        "X_val_final =tfidf.transform(X_val)\n",
        "X_test_final =tfidf.transform(X_test)"
      ],
      "metadata": {
        "id": "pxn5tx2bJ8XO"
      },
      "execution_count": null,
      "outputs": []
    },
    {
      "cell_type": "code",
      "source": [
        "print(\"TF-IDF shapes:\", X_train.shape, X_val.shape, X_test.shape)\n"
      ],
      "metadata": {
        "id": "-j9DgUzqJ--V"
      },
      "execution_count": null,
      "outputs": []
    },
    {
      "cell_type": "code",
      "source": [
        "print(y_val.shape)"
      ],
      "metadata": {
        "id": "2yP_XS_uKBCl"
      },
      "execution_count": null,
      "outputs": []
    },
    {
      "cell_type": "code",
      "source": [
        "print(X_test.shape)"
      ],
      "metadata": {
        "id": "3VqCDeWxKDke"
      },
      "execution_count": null,
      "outputs": []
    },
    {
      "cell_type": "code",
      "source": [
        "from sklearn.preprocessing import LabelEncoder\n",
        "\n",
        "le = LabelEncoder()\n",
        "\n",
        "le.fit(list(y_train) + list(y_val) + list(y_test))\n",
        "\n",
        "y_train_encoded = le.transform(y_train)\n",
        "y_val_encoded = le.transform(y_val)\n",
        "y_test_encoded = le.transform(y_test)"
      ],
      "metadata": {
        "id": "Q_DvUuDgKGT9"
      },
      "execution_count": null,
      "outputs": []
    },
    {
      "cell_type": "code",
      "source": [
        "input_dim = X_train_final.shape[1]\n"
      ],
      "metadata": {
        "id": "JIN5k6KTKJHe"
      },
      "execution_count": null,
      "outputs": []
    },
    {
      "cell_type": "code",
      "source": [
        "strategy =tf.distribute.MirroredStrategy()"
      ],
      "metadata": {
        "id": "tOoXezKOKLxF"
      },
      "execution_count": null,
      "outputs": []
    },
    {
      "cell_type": "code",
      "source": [
        "with strategy.scope():\n",
        "    def build_ann(input_dim: int, num_classes: int) -> keras.Model:\n",
        "        inputs = keras.Input(shape=(input_dim,), name=\"tfidf_or_svd_input\")\n",
        "        x = layers.Dense(512, activation=\"relu\")(inputs)\n",
        "        x = layers.Dropout(0.4)(x)\n",
        "        x = layers.Dense(256, activation=\"relu\")(x)\n",
        "        x = layers.Dropout(0.3)(x)\n",
        "        x = layers.Dense(128, activation=\"relu\")(x)\n",
        "        # IMPORTANT: keep output in float32 when using mixed precision\n",
        "        outputs = layers.Dense(num_classes, activation=\"softmax\", dtype=\"float32\")(x)\n",
        "\n",
        "        model = keras.Model(inputs, outputs, name=\"topics_ann\")\n",
        "        opt = keras.optimizers.Adam(learning_rate=1e-3)  # loss scaling handled automatically\n",
        "        model.compile(optimizer=opt,\n",
        "                      loss=\"sparse_categorical_crossentropy\",\n",
        "                      metrics=[\"accuracy\"])\n",
        "        return model\n",
        "\n",
        "    model = build_ann(input_dim, num_classes=7)"
      ],
      "metadata": {
        "id": "bXF98et2KPNl"
      },
      "execution_count": null,
      "outputs": []
    },
    {
      "cell_type": "code",
      "source": [
        "model.summary()"
      ],
      "metadata": {
        "id": "UpzInZUXKRkG"
      },
      "execution_count": null,
      "outputs": []
    },
    {
      "cell_type": "code",
      "source": [
        "\n",
        "history = model.fit(\n",
        "    X_train_final, y_train_encoded,\n",
        "    validation_data=(X_val_final, y_val_encoded),\n",
        "    epochs=5,\n",
        "    batch_size=64,\n",
        "    verbose=1,\n",
        "\n",
        ")"
      ],
      "metadata": {
        "id": "QwsLOOVFKVeV"
      },
      "execution_count": null,
      "outputs": []
    },
    {
      "cell_type": "code",
      "source": [
        "from sklearn.metrics import classification_report ,accuracy_score"
      ],
      "metadata": {
        "id": "l0qnTSHkKXyW"
      },
      "execution_count": null,
      "outputs": []
    },
    {
      "cell_type": "code",
      "source": [
        "y_pred =model.predict(X_test_final)\n",
        "y_pred_class =np.argmax(y_pred, axis=1)"
      ],
      "metadata": {
        "id": "1zcEmOhMKbhN"
      },
      "execution_count": null,
      "outputs": []
    },
    {
      "cell_type": "code",
      "source": [
        "classification_report(y_test_encoded,y_pred_class)"
      ],
      "metadata": {
        "id": "i3w3OenpKeJ0"
      },
      "execution_count": null,
      "outputs": []
    },
    {
      "cell_type": "code",
      "source": [
        "accuracy_score(y_test_encoded,y_pred_class)"
      ],
      "metadata": {
        "id": "7Qvo5-1fKiOQ"
      },
      "execution_count": null,
      "outputs": []
    }
  ]
}