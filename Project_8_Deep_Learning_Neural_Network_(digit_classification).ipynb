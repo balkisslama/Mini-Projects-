{
  "nbformat": 4,
  "nbformat_minor": 0,
  "metadata": {
    "colab": {
      "provenance": []
    },
    "kernelspec": {
      "name": "python3",
      "display_name": "Python 3"
    },
    "language_info": {
      "name": "python"
    }
  },
  "cells": [
    {
      "cell_type": "code",
      "execution_count": null,
      "metadata": {
        "id": "oX_KtYVpT7Nu"
      },
      "outputs": [],
      "source": [
        "import os\n",
        "import random\n",
        "import numpy as np\n",
        "import tensorflow as tf\n",
        "import matplotlib.pyplot as plt\n",
        "\n",
        "from tensorflow import keras\n",
        "from tensorflow.keras import layers\n",
        "from sklearn.metrics import confusion_matrix, classification_report\n",
        "import seaborn as sns"
      ]
    },
    {
      "cell_type": "code",
      "source": [
        "(x_train,y_train), (x_test,y_test)=keras.datasets.mnist.load_data()"
      ],
      "metadata": {
        "colab": {
          "base_uri": "https://localhost:8080/"
        },
        "id": "Az7DDtX2T8I6",
        "outputId": "ab3a2c55-edd7-4948-d1bc-d96b31a4f531"
      },
      "execution_count": null,
      "outputs": [
        {
          "output_type": "stream",
          "name": "stdout",
          "text": [
            "Downloading data from https://storage.googleapis.com/tensorflow/tf-keras-datasets/mnist.npz\n",
            "\u001b[1m11490434/11490434\u001b[0m \u001b[32m━━━━━━━━━━━━━━━━━━━━\u001b[0m\u001b[37m\u001b[0m \u001b[1m0s\u001b[0m 0us/step\n"
          ]
        }
      ]
    },
    {
      "cell_type": "code",
      "source": [
        "print(\"Train:\",x_train.shape, y_train.shape)\n",
        "print(\"Test:\",x_test.shape, y_test.shape)"
      ],
      "metadata": {
        "colab": {
          "base_uri": "https://localhost:8080/"
        },
        "id": "aI3mAUx2T_oK",
        "outputId": "644b2649-a1ff-464f-eb91-f787c432a5b8"
      },
      "execution_count": null,
      "outputs": [
        {
          "output_type": "stream",
          "name": "stdout",
          "text": [
            "Train: (60000, 28, 28) (60000,)\n",
            "Test: (10000, 28, 28) (10000,)\n"
          ]
        }
      ]
    },
    {
      "cell_type": "code",
      "source": [
        "x_train = x_train.astype(\"float32\") / 255.0\n",
        "x_test  = x_test.astype(\"float32\") / 255.0"
      ],
      "metadata": {
        "id": "of4lG1lSUHaf"
      },
      "execution_count": null,
      "outputs": []
    },
    {
      "cell_type": "code",
      "source": [
        "x_train = x_train.reshape((x_train.shape[0], -1))\n",
        "x_test  = x_test.reshape((x_test.shape[0], -1))"
      ],
      "metadata": {
        "id": "F8-ILSRTUK0H"
      },
      "execution_count": null,
      "outputs": []
    },
    {
      "cell_type": "code",
      "source": [
        "VAL_SPLIT = 0.1\n",
        "num_val = int(len(x_train) * VAL_SPLIT)\n",
        "\n",
        "x_val, y_val = x_train[:num_val], y_train[:num_val]\n",
        "x_train2, y_train2 = x_train[num_val:], y_train[num_val:]"
      ],
      "metadata": {
        "id": "xF8OXwJlUPAY"
      },
      "execution_count": null,
      "outputs": []
    },
    {
      "cell_type": "code",
      "source": [
        "print(\"Train:\",x_train2.shape, y_train2.shape)\n",
        "print(\"validation:\",x_val.shape, y_val.shape)"
      ],
      "metadata": {
        "colab": {
          "base_uri": "https://localhost:8080/"
        },
        "id": "3D66jN9JUQRn",
        "outputId": "a1b58494-c257-4c0c-8a25-ea876f3fd14e"
      },
      "execution_count": null,
      "outputs": [
        {
          "output_type": "stream",
          "name": "stdout",
          "text": [
            "Train: (54000, 784) (54000,)\n",
            "validation: (6000, 784) (6000,)\n"
          ]
        }
      ]
    },
    {
      "cell_type": "code",
      "source": [
        "def build_model(input_dim=784, num_classes=10):\n",
        "    inputs = keras.Input(shape=(input_dim,))\n",
        "    x = layers.Dense(128, activation=\"relu\")(inputs)\n",
        "    outputs = layers.Dense(num_classes, activation=\"softmax\")(x)\n",
        "    model = keras.Model(inputs, outputs, name=\"mnist_simple_ann\")\n",
        "    return model\n"
      ],
      "metadata": {
        "id": "fPSMInmyUVsf"
      },
      "execution_count": null,
      "outputs": []
    },
    {
      "cell_type": "code",
      "source": [
        "model=build_model()"
      ],
      "metadata": {
        "id": "RZiE0S49UWrA"
      },
      "execution_count": null,
      "outputs": []
    },
    {
      "cell_type": "code",
      "source": [
        "model.summary()"
      ],
      "metadata": {
        "colab": {
          "base_uri": "https://localhost:8080/",
          "height": 225
        },
        "id": "vA6k6hQJUbZo",
        "outputId": "9807289d-6221-46d8-dedf-c12ee376ed27"
      },
      "execution_count": null,
      "outputs": [
        {
          "output_type": "display_data",
          "data": {
            "text/plain": [
              "\u001b[1mModel: \"mnist_simple_ann\"\u001b[0m\n"
            ],
            "text/html": [
              "<pre style=\"white-space:pre;overflow-x:auto;line-height:normal;font-family:Menlo,'DejaVu Sans Mono',consolas,'Courier New',monospace\"><span style=\"font-weight: bold\">Model: \"mnist_simple_ann\"</span>\n",
              "</pre>\n"
            ]
          },
          "metadata": {}
        },
        {
          "output_type": "display_data",
          "data": {
            "text/plain": [
              "┏━━━━━━━━━━━━━━━━━━━━━━━━━━━━━━━━━┳━━━━━━━━━━━━━━━━━━━━━━━━┳━━━━━━━━━━━━━━━┓\n",
              "┃\u001b[1m \u001b[0m\u001b[1mLayer (type)                   \u001b[0m\u001b[1m \u001b[0m┃\u001b[1m \u001b[0m\u001b[1mOutput Shape          \u001b[0m\u001b[1m \u001b[0m┃\u001b[1m \u001b[0m\u001b[1m      Param #\u001b[0m\u001b[1m \u001b[0m┃\n",
              "┡━━━━━━━━━━━━━━━━━━━━━━━━━━━━━━━━━╇━━━━━━━━━━━━━━━━━━━━━━━━╇━━━━━━━━━━━━━━━┩\n",
              "│ input_layer (\u001b[38;5;33mInputLayer\u001b[0m)        │ (\u001b[38;5;45mNone\u001b[0m, \u001b[38;5;34m784\u001b[0m)            │             \u001b[38;5;34m0\u001b[0m │\n",
              "├─────────────────────────────────┼────────────────────────┼───────────────┤\n",
              "│ dense (\u001b[38;5;33mDense\u001b[0m)                   │ (\u001b[38;5;45mNone\u001b[0m, \u001b[38;5;34m128\u001b[0m)            │       \u001b[38;5;34m100,480\u001b[0m │\n",
              "├─────────────────────────────────┼────────────────────────┼───────────────┤\n",
              "│ dense_1 (\u001b[38;5;33mDense\u001b[0m)                 │ (\u001b[38;5;45mNone\u001b[0m, \u001b[38;5;34m10\u001b[0m)             │         \u001b[38;5;34m1,290\u001b[0m │\n",
              "└─────────────────────────────────┴────────────────────────┴───────────────┘\n"
            ],
            "text/html": [
              "<pre style=\"white-space:pre;overflow-x:auto;line-height:normal;font-family:Menlo,'DejaVu Sans Mono',consolas,'Courier New',monospace\">┏━━━━━━━━━━━━━━━━━━━━━━━━━━━━━━━━━┳━━━━━━━━━━━━━━━━━━━━━━━━┳━━━━━━━━━━━━━━━┓\n",
              "┃<span style=\"font-weight: bold\"> Layer (type)                    </span>┃<span style=\"font-weight: bold\"> Output Shape           </span>┃<span style=\"font-weight: bold\">       Param # </span>┃\n",
              "┡━━━━━━━━━━━━━━━━━━━━━━━━━━━━━━━━━╇━━━━━━━━━━━━━━━━━━━━━━━━╇━━━━━━━━━━━━━━━┩\n",
              "│ input_layer (<span style=\"color: #0087ff; text-decoration-color: #0087ff\">InputLayer</span>)        │ (<span style=\"color: #00d7ff; text-decoration-color: #00d7ff\">None</span>, <span style=\"color: #00af00; text-decoration-color: #00af00\">784</span>)            │             <span style=\"color: #00af00; text-decoration-color: #00af00\">0</span> │\n",
              "├─────────────────────────────────┼────────────────────────┼───────────────┤\n",
              "│ dense (<span style=\"color: #0087ff; text-decoration-color: #0087ff\">Dense</span>)                   │ (<span style=\"color: #00d7ff; text-decoration-color: #00d7ff\">None</span>, <span style=\"color: #00af00; text-decoration-color: #00af00\">128</span>)            │       <span style=\"color: #00af00; text-decoration-color: #00af00\">100,480</span> │\n",
              "├─────────────────────────────────┼────────────────────────┼───────────────┤\n",
              "│ dense_1 (<span style=\"color: #0087ff; text-decoration-color: #0087ff\">Dense</span>)                 │ (<span style=\"color: #00d7ff; text-decoration-color: #00d7ff\">None</span>, <span style=\"color: #00af00; text-decoration-color: #00af00\">10</span>)             │         <span style=\"color: #00af00; text-decoration-color: #00af00\">1,290</span> │\n",
              "└─────────────────────────────────┴────────────────────────┴───────────────┘\n",
              "</pre>\n"
            ]
          },
          "metadata": {}
        },
        {
          "output_type": "display_data",
          "data": {
            "text/plain": [
              "\u001b[1m Total params: \u001b[0m\u001b[38;5;34m101,770\u001b[0m (397.54 KB)\n"
            ],
            "text/html": [
              "<pre style=\"white-space:pre;overflow-x:auto;line-height:normal;font-family:Menlo,'DejaVu Sans Mono',consolas,'Courier New',monospace\"><span style=\"font-weight: bold\"> Total params: </span><span style=\"color: #00af00; text-decoration-color: #00af00\">101,770</span> (397.54 KB)\n",
              "</pre>\n"
            ]
          },
          "metadata": {}
        },
        {
          "output_type": "display_data",
          "data": {
            "text/plain": [
              "\u001b[1m Trainable params: \u001b[0m\u001b[38;5;34m101,770\u001b[0m (397.54 KB)\n"
            ],
            "text/html": [
              "<pre style=\"white-space:pre;overflow-x:auto;line-height:normal;font-family:Menlo,'DejaVu Sans Mono',consolas,'Courier New',monospace\"><span style=\"font-weight: bold\"> Trainable params: </span><span style=\"color: #00af00; text-decoration-color: #00af00\">101,770</span> (397.54 KB)\n",
              "</pre>\n"
            ]
          },
          "metadata": {}
        },
        {
          "output_type": "display_data",
          "data": {
            "text/plain": [
              "\u001b[1m Non-trainable params: \u001b[0m\u001b[38;5;34m0\u001b[0m (0.00 B)\n"
            ],
            "text/html": [
              "<pre style=\"white-space:pre;overflow-x:auto;line-height:normal;font-family:Menlo,'DejaVu Sans Mono',consolas,'Courier New',monospace\"><span style=\"font-weight: bold\"> Non-trainable params: </span><span style=\"color: #00af00; text-decoration-color: #00af00\">0</span> (0.00 B)\n",
              "</pre>\n"
            ]
          },
          "metadata": {}
        }
      ]
    },
    {
      "cell_type": "code",
      "source": [
        "model.compile(\n",
        "    optimizer=keras.optimizers.Adam(learning_rate=1e-3),\n",
        "    loss=\"sparse_categorical_crossentropy\",\n",
        "    metrics=[\"accuracy\"]\n",
        ")"
      ],
      "metadata": {
        "id": "xXKNUT45UeOy"
      },
      "execution_count": null,
      "outputs": []
    },
    {
      "cell_type": "code",
      "source": [
        "callbacks=[\n",
        "    keras.callbacks.EarlyStopping(\n",
        "        monitor=\"val_accuracy\",\n",
        "        patience=5,\n",
        "        restore_best_weights=True\n",
        "    ),\n",
        "    keras.callbacks.ModelCheckpoint(\n",
        "        filepath=\"best_checkpoint.keras\",\n",
        "        monitor=\"val_accuracy\",\n",
        "        save_best_only=True\n",
        "    ),\n",
        "    keras.callbacks.ReduceLROnPlateau(\n",
        "        monitor=\"val_loss\",\n",
        "        factor=0.5,\n",
        "        patience=3\n",
        "    )\n",
        "\n",
        "]"
      ],
      "metadata": {
        "id": "966-m-BzUiLQ"
      },
      "execution_count": null,
      "outputs": []
    },
    {
      "cell_type": "code",
      "source": [
        "history = model.fit(\n",
        "    x_train2, y_train2,\n",
        "    validation_data=(x_val, y_val),\n",
        "    epochs=100,\n",
        "    batch_size=128,\n",
        "    callbacks=callbacks,\n",
        "    verbose=2\n",
        ")"
      ],
      "metadata": {
        "colab": {
          "base_uri": "https://localhost:8080/"
        },
        "id": "XYq_-87-Ul3Y",
        "outputId": "359dcc2d-cd64-4593-bf4f-543709276f95"
      },
      "execution_count": null,
      "outputs": [
        {
          "output_type": "stream",
          "name": "stdout",
          "text": [
            "Epoch 1/100\n",
            "422/422 - 2s - 5ms/step - accuracy: 0.8989 - loss: 0.3691 - val_accuracy: 0.9462 - val_loss: 0.2005 - learning_rate: 1.0000e-03\n",
            "Epoch 2/100\n",
            "422/422 - 2s - 6ms/step - accuracy: 0.9503 - loss: 0.1732 - val_accuracy: 0.9613 - val_loss: 0.1433 - learning_rate: 1.0000e-03\n",
            "Epoch 3/100\n",
            "422/422 - 1s - 3ms/step - accuracy: 0.9630 - loss: 0.1263 - val_accuracy: 0.9665 - val_loss: 0.1150 - learning_rate: 1.0000e-03\n",
            "Epoch 4/100\n",
            "422/422 - 1s - 3ms/step - accuracy: 0.9717 - loss: 0.0984 - val_accuracy: 0.9720 - val_loss: 0.1017 - learning_rate: 1.0000e-03\n",
            "Epoch 5/100\n",
            "422/422 - 1s - 3ms/step - accuracy: 0.9770 - loss: 0.0802 - val_accuracy: 0.9733 - val_loss: 0.0908 - learning_rate: 1.0000e-03\n",
            "Epoch 6/100\n",
            "422/422 - 1s - 3ms/step - accuracy: 0.9806 - loss: 0.0665 - val_accuracy: 0.9740 - val_loss: 0.0845 - learning_rate: 1.0000e-03\n",
            "Epoch 7/100\n",
            "422/422 - 1s - 3ms/step - accuracy: 0.9844 - loss: 0.0556 - val_accuracy: 0.9747 - val_loss: 0.0845 - learning_rate: 1.0000e-03\n",
            "Epoch 8/100\n",
            "422/422 - 1s - 2ms/step - accuracy: 0.9865 - loss: 0.0468 - val_accuracy: 0.9755 - val_loss: 0.0782 - learning_rate: 1.0000e-03\n",
            "Epoch 9/100\n",
            "422/422 - 1s - 3ms/step - accuracy: 0.9891 - loss: 0.0395 - val_accuracy: 0.9773 - val_loss: 0.0712 - learning_rate: 1.0000e-03\n",
            "Epoch 10/100\n",
            "422/422 - 1s - 3ms/step - accuracy: 0.9915 - loss: 0.0338 - val_accuracy: 0.9745 - val_loss: 0.0803 - learning_rate: 1.0000e-03\n",
            "Epoch 11/100\n",
            "422/422 - 2s - 4ms/step - accuracy: 0.9925 - loss: 0.0287 - val_accuracy: 0.9763 - val_loss: 0.0790 - learning_rate: 1.0000e-03\n",
            "Epoch 12/100\n",
            "422/422 - 1s - 2ms/step - accuracy: 0.9942 - loss: 0.0238 - val_accuracy: 0.9765 - val_loss: 0.0753 - learning_rate: 1.0000e-03\n",
            "Epoch 13/100\n",
            "422/422 - 1s - 3ms/step - accuracy: 0.9967 - loss: 0.0172 - val_accuracy: 0.9777 - val_loss: 0.0701 - learning_rate: 5.0000e-04\n",
            "Epoch 14/100\n",
            "422/422 - 1s - 3ms/step - accuracy: 0.9972 - loss: 0.0153 - val_accuracy: 0.9795 - val_loss: 0.0695 - learning_rate: 5.0000e-04\n",
            "Epoch 15/100\n",
            "422/422 - 1s - 3ms/step - accuracy: 0.9977 - loss: 0.0139 - val_accuracy: 0.9783 - val_loss: 0.0710 - learning_rate: 5.0000e-04\n",
            "Epoch 16/100\n",
            "422/422 - 1s - 3ms/step - accuracy: 0.9982 - loss: 0.0125 - val_accuracy: 0.9780 - val_loss: 0.0705 - learning_rate: 5.0000e-04\n",
            "Epoch 17/100\n",
            "422/422 - 1s - 3ms/step - accuracy: 0.9983 - loss: 0.0115 - val_accuracy: 0.9770 - val_loss: 0.0709 - learning_rate: 5.0000e-04\n",
            "Epoch 18/100\n",
            "422/422 - 1s - 3ms/step - accuracy: 0.9992 - loss: 0.0090 - val_accuracy: 0.9788 - val_loss: 0.0702 - learning_rate: 2.5000e-04\n",
            "Epoch 19/100\n",
            "422/422 - 1s - 3ms/step - accuracy: 0.9993 - loss: 0.0084 - val_accuracy: 0.9773 - val_loss: 0.0715 - learning_rate: 2.5000e-04\n"
          ]
        }
      ]
    }
  ]
}