{
  "nbformat": 4,
  "nbformat_minor": 0,
  "metadata": {
    "colab": {
      "provenance": []
    },
    "kernelspec": {
      "name": "python3",
      "display_name": "Python 3"
    },
    "language_info": {
      "name": "python"
    }
  },
  "cells": [
    {
      "cell_type": "code",
      "execution_count": null,
      "metadata": {
        "id": "Om9sG5mKGI3R"
      },
      "outputs": [],
      "source": [
        "import numpy as np\n",
        "import matplotlib.pyplot as plt\n",
        "import seaborn as sns\n",
        "from sklearn.metrics import classification_report\n",
        "from tensorflow import keras\n",
        "from tensorflow.keras import layers"
      ]
    },
    {
      "cell_type": "code",
      "source": [
        "# Load and preprocess data\n",
        "(X_train, y_train), (X_test, y_test) = keras.datasets.mnist.load_data()"
      ],
      "metadata": {
        "colab": {
          "base_uri": "https://localhost:8080/"
        },
        "id": "KUE-ls5qtnGW",
        "outputId": "84d5f1ac-afd3-49f0-e48c-9ca5bc7f9bc6"
      },
      "execution_count": null,
      "outputs": [
        {
          "output_type": "stream",
          "name": "stdout",
          "text": [
            "Downloading data from https://storage.googleapis.com/tensorflow/tf-keras-datasets/mnist.npz\n",
            "\u001b[1m11490434/11490434\u001b[0m \u001b[32m━━━━━━━━━━━━━━━━━━━━\u001b[0m\u001b[37m\u001b[0m \u001b[1m0s\u001b[0m 0us/step\n"
          ]
        }
      ]
    },
    {
      "cell_type": "code",
      "source": [
        "# Normalize\n",
        "print(\"Train:\", X_train.shape, y_train.shape)\n",
        "print(\"Test:\", X_test.shape, y_test.shape)"
      ],
      "metadata": {
        "colab": {
          "base_uri": "https://localhost:8080/"
        },
        "id": "4MfTjsVttvP-",
        "outputId": "4ab0139b-08bf-458a-8111-17eec446e406"
      },
      "execution_count": null,
      "outputs": [
        {
          "output_type": "stream",
          "name": "stdout",
          "text": [
            "Train: (60000, 28, 28) (60000,)\n",
            "Test: (10000, 28, 28) (10000,)\n"
          ]
        }
      ]
    },
    {
      "cell_type": "code",
      "source": [
        "# Reshape data\n",
        "X_train = X_train.reshape((X_train.shape[0], -1))\n",
        "X_test = X_test.reshape((X_test.shape[0], -1))"
      ],
      "metadata": {
        "id": "fr1ysHjAt3I4"
      },
      "execution_count": null,
      "outputs": []
    },
    {
      "cell_type": "code",
      "source": [
        "VAL_SPLIT = 0.1\n",
        "num_validation = int(len(X_train) * VAL_SPLIT)\n",
        "X_val, y_val = X_train[:num_validation], y_train[:num_validation]\n",
        "X_train, y_train = X_train[num_validation:], y_train[num_validation:]\n"
      ],
      "metadata": {
        "id": "2L8csLj1zG5g"
      },
      "execution_count": null,
      "outputs": []
    },
    {
      "cell_type": "code",
      "source": [
        "print(\"Train:\", X_train.shape, y_train.shape)\n",
        "print(\"Validation:\", X_val.shape, y_val.shape)\n"
      ],
      "metadata": {
        "colab": {
          "base_uri": "https://localhost:8080/"
        },
        "id": "ygmrvkQPzI0m",
        "outputId": "f772a23e-2b4b-4dac-e05e-427654210aad"
      },
      "execution_count": null,
      "outputs": [
        {
          "output_type": "stream",
          "name": "stdout",
          "text": [
            "Train: (54000, 784) (54000,)\n",
            "Validation: (6000, 784) (6000,)\n"
          ]
        }
      ]
    },
    {
      "cell_type": "code",
      "source": [
        "def build_model(input_dim=784, num_classes=10):\n",
        "    inputs = keras.Input(shape=(input_dim,))\n",
        "    x = layers.Dense(128, activation=\"relu\")(inputs)\n",
        "    outputs = layers.Dense(num_classes, activation=\"softmax\")(x)\n",
        "    model = keras.Model(inputs, outputs, name=\"mnist_ann\")\n",
        "    return model"
      ],
      "metadata": {
        "id": "KCNbm85BzP5R"
      },
      "execution_count": null,
      "outputs": []
    },
    {
      "cell_type": "code",
      "source": [
        "model = build_model()"
      ],
      "metadata": {
        "id": "Zsi3hQDO9ft9"
      },
      "execution_count": null,
      "outputs": []
    },
    {
      "cell_type": "code",
      "source": [
        "model.summary()"
      ],
      "metadata": {
        "colab": {
          "base_uri": "https://localhost:8080/",
          "height": 225
        },
        "id": "l6TjQBh79j_C",
        "outputId": "5ff18d38-6a1d-43b2-bde5-4d6530d0813c"
      },
      "execution_count": null,
      "outputs": [
        {
          "output_type": "display_data",
          "data": {
            "text/plain": [
              "\u001b[1mModel: \"mnist_ann\"\u001b[0m\n"
            ],
            "text/html": [
              "<pre style=\"white-space:pre;overflow-x:auto;line-height:normal;font-family:Menlo,'DejaVu Sans Mono',consolas,'Courier New',monospace\"><span style=\"font-weight: bold\">Model: \"mnist_ann\"</span>\n",
              "</pre>\n"
            ]
          },
          "metadata": {}
        },
        {
          "output_type": "display_data",
          "data": {
            "text/plain": [
              "┏━━━━━━━━━━━━━━━━━━━━━━━━━━━━━━━━━┳━━━━━━━━━━━━━━━━━━━━━━━━┳━━━━━━━━━━━━━━━┓\n",
              "┃\u001b[1m \u001b[0m\u001b[1mLayer (type)                   \u001b[0m\u001b[1m \u001b[0m┃\u001b[1m \u001b[0m\u001b[1mOutput Shape          \u001b[0m\u001b[1m \u001b[0m┃\u001b[1m \u001b[0m\u001b[1m      Param #\u001b[0m\u001b[1m \u001b[0m┃\n",
              "┡━━━━━━━━━━━━━━━━━━━━━━━━━━━━━━━━━╇━━━━━━━━━━━━━━━━━━━━━━━━╇━━━━━━━━━━━━━━━┩\n",
              "│ input_layer (\u001b[38;5;33mInputLayer\u001b[0m)        │ (\u001b[38;5;45mNone\u001b[0m, \u001b[38;5;34m784\u001b[0m)            │             \u001b[38;5;34m0\u001b[0m │\n",
              "├─────────────────────────────────┼────────────────────────┼───────────────┤\n",
              "│ dense (\u001b[38;5;33mDense\u001b[0m)                   │ (\u001b[38;5;45mNone\u001b[0m, \u001b[38;5;34m128\u001b[0m)            │       \u001b[38;5;34m100,480\u001b[0m │\n",
              "├─────────────────────────────────┼────────────────────────┼───────────────┤\n",
              "│ dense_1 (\u001b[38;5;33mDense\u001b[0m)                 │ (\u001b[38;5;45mNone\u001b[0m, \u001b[38;5;34m10\u001b[0m)             │         \u001b[38;5;34m1,290\u001b[0m │\n",
              "└─────────────────────────────────┴────────────────────────┴───────────────┘\n"
            ],
            "text/html": [
              "<pre style=\"white-space:pre;overflow-x:auto;line-height:normal;font-family:Menlo,'DejaVu Sans Mono',consolas,'Courier New',monospace\">┏━━━━━━━━━━━━━━━━━━━━━━━━━━━━━━━━━┳━━━━━━━━━━━━━━━━━━━━━━━━┳━━━━━━━━━━━━━━━┓\n",
              "┃<span style=\"font-weight: bold\"> Layer (type)                    </span>┃<span style=\"font-weight: bold\"> Output Shape           </span>┃<span style=\"font-weight: bold\">       Param # </span>┃\n",
              "┡━━━━━━━━━━━━━━━━━━━━━━━━━━━━━━━━━╇━━━━━━━━━━━━━━━━━━━━━━━━╇━━━━━━━━━━━━━━━┩\n",
              "│ input_layer (<span style=\"color: #0087ff; text-decoration-color: #0087ff\">InputLayer</span>)        │ (<span style=\"color: #00d7ff; text-decoration-color: #00d7ff\">None</span>, <span style=\"color: #00af00; text-decoration-color: #00af00\">784</span>)            │             <span style=\"color: #00af00; text-decoration-color: #00af00\">0</span> │\n",
              "├─────────────────────────────────┼────────────────────────┼───────────────┤\n",
              "│ dense (<span style=\"color: #0087ff; text-decoration-color: #0087ff\">Dense</span>)                   │ (<span style=\"color: #00d7ff; text-decoration-color: #00d7ff\">None</span>, <span style=\"color: #00af00; text-decoration-color: #00af00\">128</span>)            │       <span style=\"color: #00af00; text-decoration-color: #00af00\">100,480</span> │\n",
              "├─────────────────────────────────┼────────────────────────┼───────────────┤\n",
              "│ dense_1 (<span style=\"color: #0087ff; text-decoration-color: #0087ff\">Dense</span>)                 │ (<span style=\"color: #00d7ff; text-decoration-color: #00d7ff\">None</span>, <span style=\"color: #00af00; text-decoration-color: #00af00\">10</span>)             │         <span style=\"color: #00af00; text-decoration-color: #00af00\">1,290</span> │\n",
              "└─────────────────────────────────┴────────────────────────┴───────────────┘\n",
              "</pre>\n"
            ]
          },
          "metadata": {}
        },
        {
          "output_type": "display_data",
          "data": {
            "text/plain": [
              "\u001b[1m Total params: \u001b[0m\u001b[38;5;34m101,770\u001b[0m (397.54 KB)\n"
            ],
            "text/html": [
              "<pre style=\"white-space:pre;overflow-x:auto;line-height:normal;font-family:Menlo,'DejaVu Sans Mono',consolas,'Courier New',monospace\"><span style=\"font-weight: bold\"> Total params: </span><span style=\"color: #00af00; text-decoration-color: #00af00\">101,770</span> (397.54 KB)\n",
              "</pre>\n"
            ]
          },
          "metadata": {}
        },
        {
          "output_type": "display_data",
          "data": {
            "text/plain": [
              "\u001b[1m Trainable params: \u001b[0m\u001b[38;5;34m101,770\u001b[0m (397.54 KB)\n"
            ],
            "text/html": [
              "<pre style=\"white-space:pre;overflow-x:auto;line-height:normal;font-family:Menlo,'DejaVu Sans Mono',consolas,'Courier New',monospace\"><span style=\"font-weight: bold\"> Trainable params: </span><span style=\"color: #00af00; text-decoration-color: #00af00\">101,770</span> (397.54 KB)\n",
              "</pre>\n"
            ]
          },
          "metadata": {}
        },
        {
          "output_type": "display_data",
          "data": {
            "text/plain": [
              "\u001b[1m Non-trainable params: \u001b[0m\u001b[38;5;34m0\u001b[0m (0.00 B)\n"
            ],
            "text/html": [
              "<pre style=\"white-space:pre;overflow-x:auto;line-height:normal;font-family:Menlo,'DejaVu Sans Mono',consolas,'Courier New',monospace\"><span style=\"font-weight: bold\"> Non-trainable params: </span><span style=\"color: #00af00; text-decoration-color: #00af00\">0</span> (0.00 B)\n",
              "</pre>\n"
            ]
          },
          "metadata": {}
        }
      ]
    },
    {
      "cell_type": "code",
      "source": [
        "model.compile(\n",
        "    optimizer=keras.optimizers.Adam(learning_rate=1e-3),\n",
        "    loss=\"sparse_categorical_crossentropy\",\n",
        "    metrics=[\"accuracy\"]\n",
        ")"
      ],
      "metadata": {
        "id": "_oXlPA8J-var"
      },
      "execution_count": null,
      "outputs": []
    },
    {
      "cell_type": "code",
      "source": [
        "history = model.fit(\n",
        "    X_train, y_train,\n",
        "    validation_data=(X_val, y_val),\n",
        "    epochs=50,\n",
        "    batch_size=128,\n",
        "    verbose=2\n",
        ")"
      ],
      "metadata": {
        "colab": {
          "base_uri": "https://localhost:8080/"
        },
        "id": "MCGtdE0G-yMt",
        "outputId": "f1dc4991-cc39-45f6-81b7-d3e4d2ef4a88"
      },
      "execution_count": null,
      "outputs": [
        {
          "output_type": "stream",
          "name": "stdout",
          "text": [
            "Epoch 1/50\n",
            "380/380 - 3s - 8ms/step - accuracy: 0.8612 - loss: 5.0193 - val_accuracy: 0.8893 - val_loss: 1.3693\n",
            "Epoch 2/50\n",
            "380/380 - 2s - 6ms/step - accuracy: 0.9081 - loss: 0.7682 - val_accuracy: 0.9081 - val_loss: 0.6310\n",
            "Epoch 3/50\n",
            "380/380 - 3s - 8ms/step - accuracy: 0.9277 - loss: 0.3814 - val_accuracy: 0.9161 - val_loss: 0.5333\n",
            "Epoch 4/50\n",
            "380/380 - 2s - 5ms/step - accuracy: 0.9417 - loss: 0.2703 - val_accuracy: 0.9211 - val_loss: 0.4620\n",
            "Epoch 5/50\n",
            "380/380 - 2s - 5ms/step - accuracy: 0.9503 - loss: 0.2027 - val_accuracy: 0.9326 - val_loss: 0.3888\n",
            "Epoch 6/50\n",
            "380/380 - 3s - 7ms/step - accuracy: 0.9569 - loss: 0.1683 - val_accuracy: 0.9300 - val_loss: 0.4049\n",
            "Epoch 7/50\n",
            "380/380 - 2s - 6ms/step - accuracy: 0.9601 - loss: 0.1513 - val_accuracy: 0.9367 - val_loss: 0.3857\n",
            "Epoch 8/50\n",
            "380/380 - 2s - 7ms/step - accuracy: 0.9629 - loss: 0.1361 - val_accuracy: 0.9374 - val_loss: 0.3502\n",
            "Epoch 9/50\n",
            "380/380 - 2s - 6ms/step - accuracy: 0.9639 - loss: 0.1359 - val_accuracy: 0.9396 - val_loss: 0.3555\n",
            "Epoch 10/50\n",
            "380/380 - 2s - 6ms/step - accuracy: 0.9645 - loss: 0.1357 - val_accuracy: 0.9413 - val_loss: 0.3840\n",
            "Epoch 11/50\n",
            "380/380 - 2s - 5ms/step - accuracy: 0.9675 - loss: 0.1200 - val_accuracy: 0.9406 - val_loss: 0.3756\n",
            "Epoch 12/50\n",
            "380/380 - 3s - 7ms/step - accuracy: 0.9679 - loss: 0.1258 - val_accuracy: 0.9454 - val_loss: 0.3237\n",
            "Epoch 13/50\n",
            "380/380 - 2s - 5ms/step - accuracy: 0.9706 - loss: 0.1113 - val_accuracy: 0.9428 - val_loss: 0.3492\n",
            "Epoch 14/50\n",
            "380/380 - 3s - 9ms/step - accuracy: 0.9696 - loss: 0.1210 - val_accuracy: 0.9430 - val_loss: 0.3144\n",
            "Epoch 15/50\n",
            "380/380 - 2s - 5ms/step - accuracy: 0.9722 - loss: 0.1049 - val_accuracy: 0.9539 - val_loss: 0.3192\n",
            "Epoch 16/50\n",
            "380/380 - 3s - 7ms/step - accuracy: 0.9743 - loss: 0.0936 - val_accuracy: 0.9494 - val_loss: 0.3837\n",
            "Epoch 17/50\n",
            "380/380 - 2s - 5ms/step - accuracy: 0.9739 - loss: 0.1040 - val_accuracy: 0.9506 - val_loss: 0.2827\n",
            "Epoch 18/50\n",
            "380/380 - 2s - 6ms/step - accuracy: 0.9755 - loss: 0.0928 - val_accuracy: 0.9476 - val_loss: 0.3672\n",
            "Epoch 19/50\n",
            "380/380 - 4s - 10ms/step - accuracy: 0.9753 - loss: 0.1010 - val_accuracy: 0.9491 - val_loss: 0.3290\n",
            "Epoch 20/50\n",
            "380/380 - 4s - 11ms/step - accuracy: 0.9770 - loss: 0.0896 - val_accuracy: 0.9476 - val_loss: 0.3359\n",
            "Epoch 21/50\n",
            "380/380 - 2s - 5ms/step - accuracy: 0.9785 - loss: 0.0828 - val_accuracy: 0.9526 - val_loss: 0.3501\n",
            "Epoch 22/50\n",
            "380/380 - 2s - 6ms/step - accuracy: 0.9778 - loss: 0.0919 - val_accuracy: 0.9533 - val_loss: 0.3415\n",
            "Epoch 23/50\n",
            "380/380 - 3s - 7ms/step - accuracy: 0.9787 - loss: 0.0835 - val_accuracy: 0.9556 - val_loss: 0.3085\n",
            "Epoch 24/50\n",
            "380/380 - 4s - 11ms/step - accuracy: 0.9797 - loss: 0.0806 - val_accuracy: 0.9531 - val_loss: 0.3477\n",
            "Epoch 25/50\n",
            "380/380 - 2s - 7ms/step - accuracy: 0.9817 - loss: 0.0759 - val_accuracy: 0.9531 - val_loss: 0.3693\n",
            "Epoch 26/50\n",
            "380/380 - 2s - 5ms/step - accuracy: 0.9823 - loss: 0.0748 - val_accuracy: 0.9520 - val_loss: 0.3969\n",
            "Epoch 27/50\n",
            "380/380 - 3s - 8ms/step - accuracy: 0.9811 - loss: 0.0759 - val_accuracy: 0.9504 - val_loss: 0.3532\n",
            "Epoch 28/50\n",
            "380/380 - 3s - 7ms/step - accuracy: 0.9821 - loss: 0.0728 - val_accuracy: 0.9585 - val_loss: 0.3552\n",
            "Epoch 29/50\n",
            "380/380 - 2s - 5ms/step - accuracy: 0.9821 - loss: 0.0754 - val_accuracy: 0.9530 - val_loss: 0.4291\n",
            "Epoch 30/50\n",
            "380/380 - 2s - 7ms/step - accuracy: 0.9801 - loss: 0.0836 - val_accuracy: 0.9559 - val_loss: 0.3540\n",
            "Epoch 31/50\n",
            "380/380 - 2s - 5ms/step - accuracy: 0.9841 - loss: 0.0643 - val_accuracy: 0.9567 - val_loss: 0.3860\n",
            "Epoch 32/50\n",
            "380/380 - 2s - 5ms/step - accuracy: 0.9849 - loss: 0.0640 - val_accuracy: 0.9531 - val_loss: 0.4270\n",
            "Epoch 33/50\n",
            "380/380 - 4s - 10ms/step - accuracy: 0.9847 - loss: 0.0667 - val_accuracy: 0.9574 - val_loss: 0.4075\n",
            "Epoch 34/50\n",
            "380/380 - 4s - 11ms/step - accuracy: 0.9842 - loss: 0.0789 - val_accuracy: 0.9619 - val_loss: 0.4375\n",
            "Epoch 35/50\n",
            "380/380 - 2s - 6ms/step - accuracy: 0.9849 - loss: 0.0667 - val_accuracy: 0.9600 - val_loss: 0.4588\n",
            "Epoch 36/50\n",
            "380/380 - 2s - 5ms/step - accuracy: 0.9852 - loss: 0.0688 - val_accuracy: 0.9559 - val_loss: 0.4635\n",
            "Epoch 37/50\n",
            "380/380 - 2s - 5ms/step - accuracy: 0.9864 - loss: 0.0621 - val_accuracy: 0.9478 - val_loss: 0.5822\n",
            "Epoch 38/50\n",
            "380/380 - 3s - 7ms/step - accuracy: 0.9874 - loss: 0.0546 - val_accuracy: 0.9574 - val_loss: 0.4715\n",
            "Epoch 39/50\n",
            "380/380 - 4s - 11ms/step - accuracy: 0.9867 - loss: 0.0644 - val_accuracy: 0.9591 - val_loss: 0.4628\n",
            "Epoch 40/50\n",
            "380/380 - 2s - 5ms/step - accuracy: 0.9865 - loss: 0.0638 - val_accuracy: 0.9543 - val_loss: 0.5471\n",
            "Epoch 41/50\n",
            "380/380 - 2s - 6ms/step - accuracy: 0.9856 - loss: 0.0658 - val_accuracy: 0.9585 - val_loss: 0.4953\n",
            "Epoch 42/50\n",
            "380/380 - 3s - 7ms/step - accuracy: 0.9866 - loss: 0.0644 - val_accuracy: 0.9556 - val_loss: 0.5077\n",
            "Epoch 43/50\n",
            "380/380 - 2s - 6ms/step - accuracy: 0.9878 - loss: 0.0621 - val_accuracy: 0.9580 - val_loss: 0.5114\n",
            "Epoch 44/50\n",
            "380/380 - 2s - 5ms/step - accuracy: 0.9887 - loss: 0.0527 - val_accuracy: 0.9602 - val_loss: 0.4916\n",
            "Epoch 45/50\n",
            "380/380 - 2s - 5ms/step - accuracy: 0.9881 - loss: 0.0580 - val_accuracy: 0.9589 - val_loss: 0.5270\n",
            "Epoch 46/50\n",
            "380/380 - 3s - 7ms/step - accuracy: 0.9878 - loss: 0.0614 - val_accuracy: 0.9563 - val_loss: 0.5385\n",
            "Epoch 47/50\n",
            "380/380 - 3s - 8ms/step - accuracy: 0.9889 - loss: 0.0521 - val_accuracy: 0.9583 - val_loss: 0.5874\n",
            "Epoch 48/50\n",
            "380/380 - 3s - 7ms/step - accuracy: 0.9907 - loss: 0.0408 - val_accuracy: 0.9602 - val_loss: 0.5466\n",
            "Epoch 49/50\n",
            "380/380 - 4s - 12ms/step - accuracy: 0.9887 - loss: 0.0640 - val_accuracy: 0.9543 - val_loss: 0.6884\n",
            "Epoch 50/50\n",
            "380/380 - 2s - 5ms/step - accuracy: 0.9888 - loss: 0.0625 - val_accuracy: 0.9583 - val_loss: 0.6374\n"
          ]
        }
      ]
    }
  ]
}